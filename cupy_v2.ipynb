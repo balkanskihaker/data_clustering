{
 "cells": [
  {
   "cell_type": "markdown",
   "metadata": {},
   "source": [
    "najmanji broj klastera za najvecim siluet skorom\n",
    "siluet skor za svaki klaster i onda mean"
   ]
  },
  {
   "cell_type": "code",
   "execution_count": null,
   "metadata": {},
   "outputs": [],
   "source": [
    "import pandas as pd\n",
    "import matplotlib as plt\n",
    "import numpy as np\n",
    "import seaborn as sb\n",
    "import multiprocessing as mp\n",
    "import os\n",
    "import cupy as cp\n",
    "import cuml as cm\n",
    "from matplotlib import pyplot as plt\n",
    "import matplotlib.colors as mcolors\n",
    "from sklearn.cluster import KMeans\n",
    "from sklearn.metrics import silhouette_score\n",
    "import joblib"
   ]
  },
  {
   "cell_type": "code",
   "execution_count": null,
   "metadata": {},
   "outputs": [],
   "source": [
    "data = pd.read_csv('./dataset.csv', index_col=0)\n",
    "\n",
    "data.reset_index(inplace=True, drop=True)\n",
    "data.head()\n",
    "\n",
    "data['CellID'] = data['CellID'].astype(np.uint16)\n",
    "data['ExonCount'] = data['ExonCount'].astype(np.uint8)\n",
    "data['MIDCount'] = data['MIDCount'].astype(np.uint8)\n",
    "data['x'] = data['x'].astype(np.uint16)\n",
    "data['y'] = data['y'].astype(np.uint16)\n",
    "\n",
    "unique_cells = data['CellID'].unique()\n",
    "unique_genes = data['geneID'].unique()\n",
    "print(f'{len(unique_cells)} unique cells and {len(unique_genes)} unique genes')\n",
    "\n",
    "xmin, ymin = data['x'].min(), data['y'].min()\n",
    "data['x'], data['y'] = data['x'] - xmin, data['y'] - ymin\n",
    "xmax, ymax = data['x'].max(), data['y'].max()\n",
    "xmax += 1\n",
    "ymax += 1"
   ]
  },
  {
   "cell_type": "code",
   "execution_count": null,
   "metadata": {},
   "outputs": [],
   "source": [
    "def generate_picture() -> np.ndarray:\n",
    "    __data = data[['x', 'y']]\n",
    "    picture = np.zeros(shape=(xmax, ymax), dtype=np.uint8)\n",
    "\n",
    "    for row in range(__data.shape[0]):\n",
    "        x, y = __data.iloc[row]\n",
    "        picture[x][y] = 1\n",
    "\n",
    "    plt.figure(figsize=(xmax/100, ymax/100))\n",
    "    plt.imshow(picture, cmap='gray')\n",
    "    plt.axis('off')\n",
    "    plt.show()\n",
    "    if not os.path.exists('cells.tiff'):\n",
    "        plt.imsave('./cells.tiff', picture, cmap='gray')\n",
    "\n",
    "    return picture\n",
    "\n",
    "picture = generate_picture()"
   ]
  },
  {
   "cell_type": "code",
   "execution_count": null,
   "metadata": {},
   "outputs": [],
   "source": [
    "def midcount_filling() -> int:\n",
    "    gpu_matrix = cp.zeros((len(unique_cells), len(unique_genes)), dtype=cp.uint8)\n",
    "    cell_indices = pd.factorize(data['CellID'])[0] \n",
    "    gene_indices = pd.factorize(data['geneID'])[0]\n",
    "\n",
    "    gpu_cell_indices = cp.array(cell_indices, dtype=cp.uint16)\n",
    "    gpu_gene_indices = cp.array(gene_indices, dtype=cp.uint16)\n",
    "    gpu_midcount = cp.array(data['MIDCount'].values, dtype=cp.uint8)\n",
    "\n",
    "    gpu_matrix[gpu_cell_indices, gpu_gene_indices] = gpu_midcount\n",
    "\n",
    "    tmp_matrix = cp.asnumpy(gpu_matrix)\n",
    "    print(tmp_matrix.shape) #####\n",
    "\n",
    "    unloged_matrix = pd.DataFrame(tmp_matrix, index=unique_cells, columns=unique_genes, dtype=np.uint8)\n",
    "    unloged_matrix.to_csv('unloged_matrix.csv', index=False)\n",
    "\n",
    "    unloged_matrix.info()\n",
    "    return unloged_matrix.last_valid_index()\n",
    "\n",
    "unloged_matrix_number_of_rows = midcount_filling()\n",
    "\n",
    "half_rows = unloged_matrix_number_of_rows // 2\n",
    "second_half_rows = unloged_matrix_number_of_rows - half_rows"
   ]
  },
  {
   "cell_type": "code",
   "execution_count": null,
   "metadata": {},
   "outputs": [],
   "source": [
    "def loging_matrix(data_chunk, mode) -> None:\n",
    "    gpu_matrix = cp.array(data_chunk.values, dtype=cp.float32)\n",
    "\n",
    "    gpu_matrix[gpu_matrix == 0] = -1\n",
    "    gpu_matrix = cp.where(gpu_matrix == -1, -1, cp.log(gpu_matrix))\n",
    "\n",
    "    tmp_matrix = cp.asnumpy(gpu_matrix)\n",
    "\n",
    "    loged_matrix = pd.DataFrame(tmp_matrix, index=data_chunk.index, columns=data_chunk.columns, dtype=np.float32)\n",
    "    loged_matrix.to_csv('loged_matrix.csv', mode=mode, header=(mode == 'w'), index=False)\n",
    "\n",
    "def first_part_loging() -> None:\n",
    "    first_half = pd.read_csv('unloged_matrix.csv', nrows=half_rows)\n",
    "    loging_matrix(first_half, mode='w')\n",
    "\n",
    "def second_part_loging() -> None:\n",
    "    second_half = pd.read_csv('unloged_matrix.csv', skiprows=un, nrows=second_half_rows)\n",
    "    loging_matrix(second_half, mode='a')\n",
    "\n",
    "first_part_loging()\n",
    "second_part_loging()"
   ]
  },
  {
   "cell_type": "code",
   "execution_count": 14,
   "metadata": {},
   "outputs": [],
   "source": [
    "def loader(file_name : str) -> np.ndarray:\n",
    "    tmp = pd.read_csv(file_name, index_col=0)\n",
    "    tmp = np.array(tmp.values)\n",
    "    return tmp\n",
    "\n",
    "def clustering() -> any:\n",
    "    X = loader('unloged_matrix.csv')\n",
    "    model = KMeans(n_clusters=20)\n",
    "    model.fit(X)\n",
    "    joblib.dump(model, 'model.pkl')\n",
    "    \n",
    "    labels_df = pd.DataFrame(model.labels_)\n",
    "\n",
    "    return model.labels_\n",
    "\n",
    "labels = clustering()"
   ]
  },
  {
   "cell_type": "code",
   "execution_count": null,
   "metadata": {},
   "outputs": [],
   "source": [
    "def generate_clustered_picture() -> None:\n",
    "    __data = data[['x', 'y', 'CellID']]\n",
    "    __labels = pd.DataFrame(labels, index=unique_cells)\n",
    "    picture = np.zeros(shape=(xmax, ymax), dtype=np.uint8)\n",
    "\n",
    "    for row in range(__data.shape[0]):\n",
    "        x, y, cellid = __data.iloc[row]\n",
    "        picture[x][y] = __labels.loc[cellid][0]\n",
    "\n",
    "    cmap = plt.get_cmap('tab20', 20) ###\n",
    "    tmp = list(cmap.colors)\n",
    "    tmp[0] = (0, 0, 0) \n",
    "    cmap = mcolors.ListedColormap(tmp)\n",
    "    \n",
    "    plt.figure(figsize=(xmax/100, ymax/100))\n",
    "    plt.imshow(picture, cmap=cmap)\n",
    "    plt.axis('off')\n",
    "    plt.colorbar(ticks=np.arange(20)) ###\n",
    "    plt.show()\n",
    "    plt.imsave('clustered_cells.tiff', picture, cmap=cmap)\n",
    "\n",
    "    return picture\n",
    "\n",
    "clustered_picture = generate_clustered_picture()\n"
   ]
  },
  {
   "cell_type": "code",
   "execution_count": null,
   "metadata": {},
   "outputs": [],
   "source": [
    "def score(labels : list) -> None:\n",
    "    data = loader('unloged_matrix.csv')\n",
    "    score = silhouette_score(data, labels)\n",
    "    print(score)\n",
    "\n",
    "score(labels)"
   ]
  }
 ],
 "metadata": {
  "kernelspec": {
   "display_name": "TFM1",
   "language": "python",
   "name": "python3"
  },
  "language_info": {
   "codemirror_mode": {
    "name": "ipython",
    "version": 3
   },
   "file_extension": ".py",
   "mimetype": "text/x-python",
   "name": "python",
   "nbconvert_exporter": "python",
   "pygments_lexer": "ipython3",
   "version": "3.11.10"
  }
 },
 "nbformat": 4,
 "nbformat_minor": 2
}
