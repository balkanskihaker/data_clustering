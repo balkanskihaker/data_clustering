{
 "cells": [
  {
   "cell_type": "markdown",
   "metadata": {},
   "source": [
    "najmanji broj klastera za najvecim siluet skorom\n",
    "siluet skor za svaki klaster i onda mean"
   ]
  },
  {
   "cell_type": "code",
   "execution_count": 1,
   "metadata": {},
   "outputs": [],
   "source": [
    "import pandas as pd\n",
    "import matplotlib as plt\n",
    "import numpy as np\n",
    "import seaborn as sb\n",
    "import multiprocessing as mp\n",
    "import os\n",
    "from matplotlib import pyplot as plt\n",
    "import matplotlib.colors as mcolors\n",
    "from sklearn.cluster import KMeans # type: ignore"
   ]
  },
  {
   "cell_type": "code",
   "execution_count": 6,
   "metadata": {},
   "outputs": [],
   "source": [
    "data = pd.read_csv('smaller_dataset.csv', index_col=0)"
   ]
  },
  {
   "cell_type": "code",
   "execution_count": null,
   "metadata": {},
   "outputs": [],
   "source": [
    "data.reset_index(inplace=True, drop=True)\n",
    "data.head()"
   ]
  },
  {
   "cell_type": "code",
   "execution_count": 8,
   "metadata": {},
   "outputs": [],
   "source": [
    "data['CellID'] = data['CellID'].astype(np.uint16)\n",
    "data['ExonCount'] = data['ExonCount'].astype(np.uint8)\n",
    "data['MIDCount'] = data['MIDCount'].astype(np.uint8)\n",
    "data['x'] = data['x'].astype(np.uint16)\n",
    "data['y'] = data['y'].astype(np.uint16)"
   ]
  },
  {
   "cell_type": "code",
   "execution_count": 9,
   "metadata": {},
   "outputs": [],
   "source": [
    "unique_cells = data['CellID'].unique()\n",
    "unique_genes = data['geneID'].unique()"
   ]
  },
  {
   "cell_type": "code",
   "execution_count": 10,
   "metadata": {},
   "outputs": [],
   "source": [
    "xmin, ymin = data['x'].min(), data['y'].min()\n",
    "data['x'], data['y'] = data['x'] - xmin, data['y'] - ymin\n",
    "xmax, ymax = data['x'].max(), data['y'].max()\n",
    "xmax += 1\n",
    "ymax += 1"
   ]
  },
  {
   "cell_type": "code",
   "execution_count": null,
   "metadata": {},
   "outputs": [],
   "source": [
    "def generate_picture() -> None:\n",
    "    __data = data[['x', 'y']]\n",
    "    picture = np.zeros(shape=(xmax, ymax), dtype=np.uint8)\n",
    "\n",
    "    for row in range(__data.shape[0]):\n",
    "        x, y = __data.iloc[row]\n",
    "        picture[x][y] = 1\n",
    "\n",
    "    plt.figure(figsize=(xmax/100, ymax/100))\n",
    "    plt.imshow(picture, cmap='gray')\n",
    "    plt.axis('off')\n",
    "    plt.show()\n",
    "    plt.imsave('cells.tiff', picture, cmap='gray')\n",
    "\n",
    "    return picture\n",
    "\n",
    "picture = generate_picture()"
   ]
  },
  {
   "cell_type": "code",
   "execution_count": null,
   "metadata": {},
   "outputs": [],
   "source": [
    "def midcount_filling() -> int:\n",
    "    matrix = np.zeros((len(unique_cells), len(unique_genes)), dtype=np.uint8)\n",
    "    cell_indices = pd.factorize(data['CellID'])[0] \n",
    "    gene_indices = pd.factorize(data['geneID'])[0]\n",
    "\n",
    "    matrix_cell_indices = np.array(cell_indices, dtype=np.uint16)\n",
    "    matrix_gene_indices = np.array(gene_indices, dtype=np.uint16)\n",
    "    matrix_midcount = np.array(data['MIDCount'].values, dtype=np.uint8)\n",
    "\n",
    "    matrix[matrix_cell_indices, matrix_gene_indices] = matrix_midcount\n",
    "\n",
    "    unloged_matrix = pd.DataFrame(matrix, index=unique_cells, columns=unique_genes, dtype=np.uint8)\n",
    "    unloged_matrix.to_csv('unloged_matrix.csv', index=False)\n",
    "\n",
    "    unloged_matrix.info()\n",
    "    return unloged_matrix.last_valid_index()\n",
    "\n",
    "unloged_matrix_number_of_rows = midcount_filling()"
   ]
  },
  {
   "cell_type": "code",
   "execution_count": null,
   "metadata": {},
   "outputs": [],
   "source": [
    "half_rows = unloged_matrix_number_of_rows // 2\n",
    "second_half_rows = unloged_matrix_number_of_rows - half_rows\n",
    "\n",
    "def loging_matrix(data_chunk, mode) -> None:\n",
    "    matrix = np.array(data_chunk.values, dtype=np.float32)\n",
    "\n",
    "    matrix[matrix == 0] = -1\n",
    "    matrix = np.where(matrix == -1, -1, np.log(matrix))\n",
    "\n",
    "    loged_matrix = pd.DataFrame(matrix, index=data_chunk.index, columns=data_chunk.columns, dtype=np.float32)\n",
    "    loged_matrix.to_csv('loged_matrix.csv', mode=mode, header=(mode == 'w'), index=False)\n",
    "\n",
    "def first_part() -> None:\n",
    "    first_half = pd.read_csv('unloged_matrix.csv', nrows=half_rows)\n",
    "    loging_matrix(first_half, mode='w')\n",
    "\n",
    "def second_part() -> None:\n",
    "    second_half = pd.read_csv('unloged_matrix.csv', skiprows=half_rows, nrows=second_half_rows)\n",
    "    loging_matrix(second_half, mode='a')\n",
    "\n",
    "first_part()\n",
    "second_part()"
   ]
  },
  {
   "cell_type": "code",
   "execution_count": 4,
   "metadata": {},
   "outputs": [],
   "source": [
    "def fetch(file_name : str) -> np.ndarray:\n",
    "    tmp = pd.read_csv(file_name, index_col=0)\n",
    "    return np.array(tmp.values)\n",
    "\n",
    "def clustering() -> list:\n",
    "    data = fetch('unloged_matrix.csv')\n",
    "    model = KMeans(n_clusters=20) ###\n",
    "    model.fit(data)\n",
    "    return model.labels_\n",
    "\n",
    "labels = clustering()"
   ]
  },
  {
   "cell_type": "code",
   "execution_count": null,
   "metadata": {},
   "outputs": [],
   "source": [
    "def generate_clustered_picture() -> None:\n",
    "    __data = data[['x', 'y', 'CellID']]\n",
    "    __labels = pd.DataFrame(labels, index=unique_cells)\n",
    "    picture = np.zeros(shape=(xmax, ymax), dtype=np.uint8)\n",
    "\n",
    "    for row in range(__data.shape[0]):\n",
    "        x, y, cellid = __data.iloc[row]\n",
    "        picture[x][y] = __labels.loc[cellid][0]\n",
    "\n",
    "    cmap = plt.get_cmap('tab20', 20) ###\n",
    "    tmp = list(cmap.colors)\n",
    "    tmp[0] = (0, 0, 0) \n",
    "    cmap = mcolors.ListedColormap(tmp)\n",
    "    \n",
    "    plt.figure(figsize=(xmax/100, ymax/100))\n",
    "    plt.imshow(picture, cmap=cmap)\n",
    "    plt.axis('off')\n",
    "    plt.colorbar(ticks=np.arange(20)) ###\n",
    "    plt.show()\n",
    "    plt.imsave('clustered_cells.tiff', picture, cmap=cmap)\n",
    "\n",
    "    return picture\n",
    "\n",
    "clustered_picture = generate_clustered_picture()"
   ]
  }
 ],
 "metadata": {
  "kernelspec": {
   "display_name": "TFM1",
   "language": "python",
   "name": "python3"
  },
  "language_info": {
   "codemirror_mode": {
    "name": "ipython",
    "version": 3
   },
   "file_extension": ".py",
   "mimetype": "text/x-python",
   "name": "python",
   "nbconvert_exporter": "python",
   "pygments_lexer": "ipython3",
   "version": "3.11.8"
  }
 },
 "nbformat": 4,
 "nbformat_minor": 2
}
