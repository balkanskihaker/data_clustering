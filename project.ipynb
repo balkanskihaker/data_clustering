{
 "cells": [
  {
   "cell_type": "markdown",
   "metadata": {},
   "source": [
    "najmanji broj klastera za najvecim siluet skorom\n",
    "siluet skor za svaki klaster i onda mean"
   ]
  },
  {
   "cell_type": "code",
   "execution_count": null,
   "metadata": {},
   "outputs": [],
   "source": [
    "import pandas as pd\n",
    "import matplotlib as plt\n",
    "import numpy as np\n",
    "import seaborn as sb\n",
    "import multiprocessing as mp\n",
    "import os\n",
    "import cupy as cp\n",
    "import cuml as cm\n",
    "from matplotlib import pyplot as plt"
   ]
  },
  {
   "cell_type": "code",
   "execution_count": 2,
   "metadata": {},
   "outputs": [],
   "source": [
    "data = pd.read_csv('../../DATA/smaller_dataset.csv', index_col=0)"
   ]
  },
  {
   "cell_type": "code",
   "execution_count": null,
   "metadata": {},
   "outputs": [],
   "source": [
    "data.reset_index(inplace=True, drop=True)\n",
    "data.head()"
   ]
  },
  {
   "cell_type": "code",
   "execution_count": 4,
   "metadata": {},
   "outputs": [],
   "source": [
    "data['CellID'] = data['CellID'].astype(np.uint16)\n",
    "data['ExonCount'] = data['ExonCount'].astype(np.uint8)\n",
    "data['MIDCount'] = data['MIDCount'].astype(np.uint8)\n",
    "data['x'] = data['x'].astype(np.uint16)\n",
    "data['y'] = data['y'].astype(np.uint16)"
   ]
  },
  {
   "cell_type": "code",
   "execution_count": 5,
   "metadata": {},
   "outputs": [],
   "source": [
    "unique_cells = data['CellID'].unique()\n",
    "unique_genes = data['geneID'].unique()"
   ]
  },
  {
   "cell_type": "code",
   "execution_count": 6,
   "metadata": {},
   "outputs": [],
   "source": [
    "xmin, ymin = data['x'].min(), data['y'].min()\n",
    "data['x'], data['y'] = data['x'] - xmin, data['y'] - ymin\n",
    "xmax, ymax = data['x'].max(), data['y'].max()\n",
    "xmax += 1\n",
    "ymax += 1"
   ]
  },
  {
   "cell_type": "code",
   "execution_count": null,
   "metadata": {},
   "outputs": [],
   "source": [
    "def generate_picture() -> None:\n",
    "    __data = data[['x', 'y']]\n",
    "    picture = np.zeros(shape=(xmax, ymax), dtype=np.uint8)\n",
    "\n",
    "    for row in range(__data.shape[0]):\n",
    "        x, y = __data.iloc[row]\n",
    "        picture[x][y] = 1\n",
    "\n",
    "    plt.figure(figsize=(xmax/100, ymax/100))\n",
    "    plt.imshow(picture, cmap='gray')\n",
    "    plt.axis('off')\n",
    "    plt.show()\n",
    "    plt.imsave('../../DATA/cells.tiff', picture, cmap='gray')\n",
    "\n",
    "generate_picture()"
   ]
  },
  {
   "cell_type": "code",
   "execution_count": null,
   "metadata": {},
   "outputs": [],
   "source": [
    "def midcount_filling() -> int:\n",
    "    gpu_matrix = cp.zeros((len(unique_cells), len(unique_genes)), dtype=cp.uint8)\n",
    "    cell_indices = pd.factorize(data['CellID'])[0] \n",
    "    gene_indices = pd.factorize(data['geneID'])[0]\n",
    "\n",
    "    gpu_cell_indices = cp.array(cell_indices, dtype=cp.uint16)\n",
    "    gpu_gene_indices = cp.array(gene_indices, dtype=cp.uint16)\n",
    "    gpu_midcount = cp.array(data['MIDCount'].values, dtype=cp.uint8)\n",
    "\n",
    "    gpu_matrix[gpu_cell_indices, gpu_gene_indices] = gpu_midcount\n",
    "\n",
    "    tmp_matrix = cp.asnumpy(gpu_matrix)\n",
    "\n",
    "    unloged_matrix = pd.DataFrame(tmp_matrix, index=unique_cells, columns=unique_genes, dtype=np.uint8)\n",
    "    unloged_matrix.to_csv('unloged_matrix.csv', index=False)\n",
    "\n",
    "    unloged_matrix.info()\n",
    "    return unloged_matrix.last_valid_index()\n",
    "\n",
    "unloged_matrix_number_of_rows = midcount_filling()"
   ]
  },
  {
   "cell_type": "code",
   "execution_count": null,
   "metadata": {},
   "outputs": [],
   "source": [
    "half_rows = unloged_matrix_number_of_rows // 2\n",
    "second_half_rows = unloged_matrix_number_of_rows - half_rows\n",
    "\n",
    "def loging_matrix(data_chunk, mode='w') -> None:\n",
    "    gpu_matrix = cp.array(data_chunk.values, dtype=cp.float32)\n",
    "\n",
    "    gpu_matrix[gpu_matrix == 0] = -1\n",
    "    gpu_matrix = cp.where(gpu_matrix == -1, -1, cp.log(gpu_matrix))\n",
    "\n",
    "    tmp_matrix = cp.asnumpy(gpu_matrix)\n",
    "\n",
    "    loged_matrix = pd.DataFrame(tmp_matrix, index=data_chunk.index, columns=data_chunk.columns, dtype=np.float32)\n",
    "    loged_matrix.to_csv('loged_matrix.csv', mode=mode, header=(mode == 'w'), index=False)\n",
    "\n",
    "def first_part() -> None:\n",
    "    first_half = pd.read_csv('unloged_matrix.csv', nrows=half_rows)\n",
    "    loging_matrix(first_half, mode='w')\n",
    "\n",
    "def second_part() -> None:\n",
    "    second_half = pd.read_csv('unloged_matrix.csv', skiprows=half_rows, nrows=second_half_rows)\n",
    "    loging_matrix(second_half, mode='a')\n",
    "\n",
    "first_part()\n",
    "second_part()"
   ]
  },
  {
   "cell_type": "code",
   "execution_count": null,
   "metadata": {},
   "outputs": [],
   "source": [
    "def clustering() -> None:\n",
    "    loged_matrix = pd.read_csv('loged_matrix.csv', index_col=0)\n",
    "    data = cp.array(loged_matrix.values)\n",
    "\n",
    "clustering()"
   ]
  }
 ],
 "metadata": {
  "kernelspec": {
   "display_name": "TFM1",
   "language": "python",
   "name": "python3"
  },
  "language_info": {
   "codemirror_mode": {
    "name": "ipython",
    "version": 3
   },
   "file_extension": ".py",
   "mimetype": "text/x-python",
   "name": "python",
   "nbconvert_exporter": "python",
   "pygments_lexer": "ipython3",
   "version": "3.11.8"
  }
 },
 "nbformat": 4,
 "nbformat_minor": 2
}
